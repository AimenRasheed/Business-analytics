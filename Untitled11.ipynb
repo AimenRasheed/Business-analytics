{
 "cells": [
  {
   "cell_type": "code",
   "execution_count": 1,
   "id": "8859d6ae-872d-417e-abfb-92dbbb7b9c12",
   "metadata": {},
   "outputs": [],
   "source": [
    "x=[1,2,3,4,5,6]"
   ]
  },
  {
   "cell_type": "code",
   "execution_count": 2,
   "id": "d1ba2842-4a1a-4208-b085-9c2a5e94fee1",
   "metadata": {},
   "outputs": [
    {
     "data": {
      "text/plain": [
       "6"
      ]
     },
     "execution_count": 2,
     "metadata": {},
     "output_type": "execute_result"
    }
   ],
   "source": [
    "x[-1]"
   ]
  },
  {
   "cell_type": "code",
   "execution_count": 3,
   "id": "b0816447-3f65-47d3-9d49-868b89c1b660",
   "metadata": {},
   "outputs": [],
   "source": [
    "x[-1]=100"
   ]
  },
  {
   "cell_type": "code",
   "execution_count": 4,
   "id": "db91e489-2ef8-48a2-97cf-aa3d57b444b7",
   "metadata": {},
   "outputs": [
    {
     "data": {
      "text/plain": [
       "100"
      ]
     },
     "execution_count": 4,
     "metadata": {},
     "output_type": "execute_result"
    }
   ],
   "source": [
    "x[-1]"
   ]
  },
  {
   "cell_type": "code",
   "execution_count": 5,
   "id": "6221ea97-c7c3-4d99-b872-5c20b600d16c",
   "metadata": {},
   "outputs": [
    {
     "data": {
      "text/plain": [
       "[1, 2, 3, 4, 5, 100]"
      ]
     },
     "execution_count": 5,
     "metadata": {},
     "output_type": "execute_result"
    }
   ],
   "source": [
    "x"
   ]
  },
  {
   "cell_type": "code",
   "execution_count": 6,
   "id": "ddfd317e-5fba-436c-8720-d1c41d98cadd",
   "metadata": {},
   "outputs": [
    {
     "data": {
      "text/plain": [
       "{1, 2, 3, 4, 5, 6, 7}"
      ]
     },
     "execution_count": 6,
     "metadata": {},
     "output_type": "execute_result"
    }
   ],
   "source": [
    "{1,2,3,4,5,6,7}"
   ]
  },
  {
   "cell_type": "code",
   "execution_count": 7,
   "id": "2984c02f-3a7f-47a4-82c2-9d47aa330e48",
   "metadata": {},
   "outputs": [
    {
     "data": {
      "text/plain": [
       "{1, 3, 4, 5, 8}"
      ]
     },
     "execution_count": 7,
     "metadata": {},
     "output_type": "execute_result"
    }
   ],
   "source": [
    "{4,5,8,3,8,1}"
   ]
  },
  {
   "cell_type": "code",
   "execution_count": 11,
   "id": "79de1bd3-ef55-43a1-945d-5768cba2a610",
   "metadata": {},
   "outputs": [
    {
     "data": {
      "text/plain": [
       "{0, 1, 3, 4, 5, 6, 8, 9}"
      ]
     },
     "execution_count": 11,
     "metadata": {},
     "output_type": "execute_result"
    }
   ],
   "source": [
    "{5,3,8,6,4,0,9,1,3}"
   ]
  },
  {
   "cell_type": "code",
   "execution_count": 1,
   "id": "b1e5ea19-7494-4a41-bd58-03a5f7271ae1",
   "metadata": {},
   "outputs": [],
   "source": [
    "x=(3,5,1,2,7,4)"
   ]
  },
  {
   "cell_type": "code",
   "execution_count": 3,
   "id": "ac950c06-2136-4b43-ad45-8d008dd07c99",
   "metadata": {},
   "outputs": [],
   "source": [
    "x=(-1)"
   ]
  },
  {
   "cell_type": "code",
   "execution_count": 4,
   "id": "19e8e17e-9e45-411b-aa47-da701101c9c2",
   "metadata": {},
   "outputs": [],
   "source": [
    "x=[3,6,4,6]\n",
    "y=[7,3,8,2]"
   ]
  },
  {
   "cell_type": "code",
   "execution_count": null,
   "id": "a5f463f8-b23c-47c0-ac21-05494f222f52",
   "metadata": {},
   "outputs": [],
   "source": [
    "plt.plot"
   ]
  }
 ],
 "metadata": {
  "kernelspec": {
   "display_name": "Python 3",
   "language": "python",
   "name": "python3"
  },
  "language_info": {
   "codemirror_mode": {
    "name": "ipython",
    "version": 3
   },
   "file_extension": ".py",
   "mimetype": "text/x-python",
   "name": "python",
   "nbconvert_exporter": "python",
   "pygments_lexer": "ipython3",
   "version": "3.8.8"
  }
 },
 "nbformat": 4,
 "nbformat_minor": 5
}
