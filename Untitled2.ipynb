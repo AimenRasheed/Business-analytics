{
 "cells": [
  {
   "cell_type": "code",
   "execution_count": 2,
   "id": "37b31fcf-0f27-471a-ae09-c1a1dcdead13",
   "metadata": {},
   "outputs": [
    {
     "name": "stdin",
     "output_type": "stream",
     "text": [
      "Enter a number -1\n"
     ]
    },
    {
     "name": "stdout",
     "output_type": "stream",
     "text": [
      "Number is negative\n"
     ]
    }
   ],
   "source": [
    "x=int(input(\"Enter a number\"))\n",
    "if x==0:\n",
    "    print(\"number is zero\")\n",
    "if x>0:\n",
    "    print(\"Number is positive\")\n",
    "if x<0:\n",
    "    print(\"Number is negative\")"
   ]
  },
  {
   "cell_type": "code",
   "execution_count": 6,
   "id": "77162679-0fa9-4b65-ab6b-59e7f8898d4d",
   "metadata": {},
   "outputs": [
    {
     "name": "stdin",
     "output_type": "stream",
     "text": [
      "Enter a number -5\n"
     ]
    },
    {
     "name": "stdout",
     "output_type": "stream",
     "text": [
      "Number is nagative\n"
     ]
    }
   ],
   "source": [
    "y=int(input(\"Enter a number\"))\n",
    "if y >= 0:\n",
    "    if y==0:\n",
    "        print(\"Number is zero\")\n",
    "    else:\n",
    "        print(\"Number is positive\")\n",
    "else:\n",
    "    print(\"Number is nagative\")"
   ]
  },
  {
   "cell_type": "code",
   "execution_count": 10,
   "id": "a1043afe-77cc-4f9a-9664-b45e0bce8917",
   "metadata": {},
   "outputs": [
    {
     "name": "stdin",
     "output_type": "stream",
     "text": [
      "Enter Priciple Amount 20000\n",
      "Enter the time 5\n"
     ]
    },
    {
     "name": "stdout",
     "output_type": "stream",
     "text": [
      "820000\n"
     ]
    }
   ],
   "source": [
    "p=int(input(\"Enter Priciple Amount\"))\n",
    "n=int(input(\"Enter the time\"))\n",
    "if n > 6 :\n",
    "    s=p+(p*n*10)\n",
    "else:\n",
    "    s=p+(p*n*8)\n",
    "if p > 50000 :\n",
    "    s=p+(p*n*10)\n",
    "print(s)\n",
    "    "
   ]
  },
  {
   "cell_type": "code",
   "execution_count": null,
   "id": "e141245e-12a3-4879-8986-e3ad190e634c",
   "metadata": {},
   "outputs": [],
   "source": []
  }
 ],
 "metadata": {
  "kernelspec": {
   "display_name": "Python 3",
   "language": "python",
   "name": "python3"
  },
  "language_info": {
   "codemirror_mode": {
    "name": "ipython",
    "version": 3
   },
   "file_extension": ".py",
   "mimetype": "text/x-python",
   "name": "python",
   "nbconvert_exporter": "python",
   "pygments_lexer": "ipython3",
   "version": "3.8.8"
  }
 },
 "nbformat": 4,
 "nbformat_minor": 5
}
