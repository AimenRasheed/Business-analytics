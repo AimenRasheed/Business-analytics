{
 "cells": [
  {
   "cell_type": "code",
   "execution_count": 1,
   "id": "20b68b09-e930-4966-b7e7-51d83d3805d8",
   "metadata": {},
   "outputs": [],
   "source": [
    "x=[1,2,3,4,5,]"
   ]
  },
  {
   "cell_type": "code",
   "execution_count": 2,
   "id": "51e4a1b6-402d-426e-91e5-042e9b0fb8f8",
   "metadata": {},
   "outputs": [
    {
     "data": {
      "text/plain": [
       "1"
      ]
     },
     "execution_count": 2,
     "metadata": {},
     "output_type": "execute_result"
    }
   ],
   "source": [
    "x[0]"
   ]
  },
  {
   "cell_type": "code",
   "execution_count": 3,
   "id": "ce1fd55a-0f3a-4ab4-bd2c-5557a4f38935",
   "metadata": {},
   "outputs": [
    {
     "data": {
      "text/plain": [
       "2"
      ]
     },
     "execution_count": 3,
     "metadata": {},
     "output_type": "execute_result"
    }
   ],
   "source": [
    "x[1]"
   ]
  },
  {
   "cell_type": "code",
   "execution_count": 4,
   "id": "f3e822bc-70bc-4bac-aea5-de5872cff676",
   "metadata": {},
   "outputs": [
    {
     "data": {
      "text/plain": [
       "3"
      ]
     },
     "execution_count": 4,
     "metadata": {},
     "output_type": "execute_result"
    }
   ],
   "source": [
    "x[2]"
   ]
  },
  {
   "cell_type": "code",
   "execution_count": 4,
   "id": "42a44a6f-b02e-4e72-923b-024ed8e97137",
   "metadata": {},
   "outputs": [],
   "source": [
    "x=[\"Aimen\",\"Abdul\",\"kerala\",19]"
   ]
  },
  {
   "cell_type": "code",
   "execution_count": 5,
   "id": "86866dc6-ff05-4a73-8be7-fa49d4790aa2",
   "metadata": {},
   "outputs": [
    {
     "data": {
      "text/plain": [
       "'Aimen'"
      ]
     },
     "execution_count": 5,
     "metadata": {},
     "output_type": "execute_result"
    }
   ],
   "source": [
    "x[0]"
   ]
  },
  {
   "cell_type": "code",
   "execution_count": 6,
   "id": "824db528-87b4-406b-a99e-00f6c7b3fbec",
   "metadata": {},
   "outputs": [
    {
     "data": {
      "text/plain": [
       "19"
      ]
     },
     "execution_count": 6,
     "metadata": {},
     "output_type": "execute_result"
    }
   ],
   "source": [
    "x[-1]"
   ]
  },
  {
   "cell_type": "code",
   "execution_count": 10,
   "id": "da41f24c-4108-4f3f-a9df-5c7a994053d3",
   "metadata": {},
   "outputs": [],
   "source": [
    "x[-1]=1991"
   ]
  },
  {
   "cell_type": "code",
   "execution_count": 11,
   "id": "34be6bdc-068a-42f9-84c7-948cda803b81",
   "metadata": {},
   "outputs": [
    {
     "data": {
      "text/plain": [
       "1991"
      ]
     },
     "execution_count": 11,
     "metadata": {},
     "output_type": "execute_result"
    }
   ],
   "source": [
    "x[-1]"
   ]
  },
  {
   "cell_type": "code",
   "execution_count": 12,
   "id": "fe4544bf-6b8e-410f-9b6b-a296fe7da353",
   "metadata": {},
   "outputs": [
    {
     "data": {
      "text/plain": [
       "['Aimen', 'Abdul', 'kerala', 1991]"
      ]
     },
     "execution_count": 12,
     "metadata": {},
     "output_type": "execute_result"
    }
   ],
   "source": [
    "x"
   ]
  },
  {
   "cell_type": "code",
   "execution_count": 13,
   "id": "49388b63-8c3b-4784-b326-83cfbbce3b57",
   "metadata": {},
   "outputs": [
    {
     "name": "stdout",
     "output_type": "stream",
     "text": [
      "value of x = 0\n",
      "value of x = 1\n",
      "value of x = 2\n",
      "value of x = 3\n",
      "value of x = 4\n",
      "value of x = 5\n",
      "value of x = 6\n",
      "value of x = 7\n",
      "value of x = 8\n",
      "value of x = 9\n"
     ]
    }
   ],
   "source": [
    "x=0\n",
    "while x<10 :\n",
    "    print(\"value of x =\",x)\n",
    "    x=x+1"
   ]
  },
  {
   "cell_type": "code",
   "execution_count": 2,
   "id": "11d2330d-492c-4632-b68e-b73fe094bbe4",
   "metadata": {},
   "outputs": [
    {
     "name": "stdout",
     "output_type": "stream",
     "text": [
      "4950\n"
     ]
    }
   ],
   "source": [
    "x=0\n",
    "total=0\n",
    "while x<100:\n",
    "    total=total+x\n",
    "    x=x+1\n",
    "print(total)"
   ]
  },
  {
   "cell_type": "code",
   "execution_count": null,
   "id": "0e5a2b92-dd27-4ebd-a30c-325c224e46fe",
   "metadata": {},
   "outputs": [
    {
     "name": "stdin",
     "output_type": "stream",
     "text": [
      "Enter a number 8\n"
     ]
    }
   ],
   "source": [
    "y=int(input(\"Enter a number\"))\n",
    "total=0\n",
    "while y<100:\n",
    "    total=total*y\n",
    "    y=y*1\n",
    "print(total)\n"
   ]
  },
  {
   "cell_type": "markdown",
   "id": "0d7e61b2-47be-4538-940a-a59d531b1fa9",
   "metadata": {},
   "source": [
    "### "
   ]
  }
 ],
 "metadata": {
  "kernelspec": {
   "display_name": "Python 3",
   "language": "python",
   "name": "python3"
  },
  "language_info": {
   "codemirror_mode": {
    "name": "ipython",
    "version": 3
   },
   "file_extension": ".py",
   "mimetype": "text/x-python",
   "name": "python",
   "nbconvert_exporter": "python",
   "pygments_lexer": "ipython3",
   "version": "3.8.8"
  }
 },
 "nbformat": 4,
 "nbformat_minor": 5
}
