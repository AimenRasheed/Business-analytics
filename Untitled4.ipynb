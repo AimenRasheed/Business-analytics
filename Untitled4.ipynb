{
 "cells": [
  {
   "cell_type": "code",
   "execution_count": 1,
   "id": "b5cbe676-3055-4fd5-bc3b-57b22f918459",
   "metadata": {},
   "outputs": [
    {
     "name": "stdin",
     "output_type": "stream",
     "text": [
      " 24\n"
     ]
    }
   ],
   "source": [
    "x=input()"
   ]
  },
  {
   "cell_type": "code",
   "execution_count": 2,
   "id": "4b2b37f2-9ba2-48b8-8582-025b63eac21f",
   "metadata": {},
   "outputs": [
    {
     "name": "stdout",
     "output_type": "stream",
     "text": [
      "24\n"
     ]
    }
   ],
   "source": [
    "print(x)"
   ]
  },
  {
   "cell_type": "code",
   "execution_count": 3,
   "id": "5ccf7589-4ddd-47e3-befe-acde0974ce5f",
   "metadata": {},
   "outputs": [
    {
     "name": "stdin",
     "output_type": "stream",
     "text": [
      "Enter your name Aimen Abdul Rasheed\n"
     ]
    }
   ],
   "source": [
    "x=input(\"Enter your name\")"
   ]
  },
  {
   "cell_type": "code",
   "execution_count": 4,
   "id": "fee5f954-9c17-4cc0-ac83-78db52bf2440",
   "metadata": {},
   "outputs": [
    {
     "data": {
      "text/plain": [
       "'Aimen Abdul Rasheed'"
      ]
     },
     "execution_count": 4,
     "metadata": {},
     "output_type": "execute_result"
    }
   ],
   "source": [
    "x"
   ]
  },
  {
   "cell_type": "code",
   "execution_count": 5,
   "id": "483393a1-c552-45bc-978b-e2622091c09d",
   "metadata": {},
   "outputs": [
    {
     "name": "stdin",
     "output_type": "stream",
     "text": [
      "Age 19\n"
     ]
    }
   ],
   "source": [
    "y=input(\"Age\")"
   ]
  },
  {
   "cell_type": "code",
   "execution_count": 6,
   "id": "b67969e0-2f52-4352-a402-b0c53646c167",
   "metadata": {},
   "outputs": [
    {
     "name": "stdout",
     "output_type": "stream",
     "text": [
      "19\n"
     ]
    }
   ],
   "source": [
    "print(y)"
   ]
  },
  {
   "cell_type": "code",
   "execution_count": 7,
   "id": "181a738f-dbe9-4db3-97a9-fe9e07467a05",
   "metadata": {},
   "outputs": [
    {
     "name": "stdin",
     "output_type": "stream",
     "text": [
      "mens assumption hostel kalamessery\n"
     ]
    }
   ],
   "source": [
    "z=input(\"mens assumption hostel\")"
   ]
  },
  {
   "cell_type": "code",
   "execution_count": 8,
   "id": "286a41d1-13cf-4f0f-9f2c-45eaf1f79cef",
   "metadata": {},
   "outputs": [
    {
     "name": "stdout",
     "output_type": "stream",
     "text": [
      "kalamessery\n"
     ]
    }
   ],
   "source": [
    "print(z)"
   ]
  },
  {
   "cell_type": "code",
   "execution_count": null,
   "id": "af2dd3ac-6f82-4242-8e54-abb163e59f83",
   "metadata": {},
   "outputs": [],
   "source": [
    "a=input(\"Enter first number\")\n",
    "b=input(\"Enter second number\")"
   ]
  },
  {
   "cell_type": "code",
   "execution_count": null,
   "id": "32989287-7428-4b34-b9db-ecdba73e859a",
   "metadata": {},
   "outputs": [],
   "source": []
  },
  {
   "cell_type": "code",
   "execution_count": null,
   "id": "944dd488-a85d-48bd-b801-643f81d72aa8",
   "metadata": {},
   "outputs": [],
   "source": []
  },
  {
   "cell_type": "code",
   "execution_count": null,
   "id": "2ded0ad3-603b-4581-a5e6-0e6e61d7d719",
   "metadata": {},
   "outputs": [],
   "source": [
    "v=input(\"Enter first number\")\n",
    "n=input(\"Enter second number\")\n",
    "g=v+n\n",
    "print(g)"
   ]
  },
  {
   "cell_type": "code",
   "execution_count": null,
   "id": "d83ee477-fdf9-44e3-9fff-3653f12e1374",
   "metadata": {},
   "outputs": [],
   "source": [
    "print(g)"
   ]
  },
  {
   "cell_type": "code",
   "execution_count": null,
   "id": "dcc942b1-ab15-4b5e-8331-3ac5d15b2241",
   "metadata": {},
   "outputs": [],
   "source": [
    "i=input(\"Enter first number\")\n",
    "q=input(\"Enter second number\")"
   ]
  },
  {
   "cell_type": "code",
   "execution_count": null,
   "id": "b3c035b6-5ace-43a0-a32d-e20a03a67e8a",
   "metadata": {},
   "outputs": [],
   "source": [
    "i=input(\"Enter first number\")\n",
    "q=input(\"Enter second number\")"
   ]
  },
  {
   "cell_type": "code",
   "execution_count": null,
   "id": "e4280f99-3c49-47e9-8ee6-c25e0198e783",
   "metadata": {},
   "outputs": [],
   "source": [
    "x"
   ]
  }
 ],
 "metadata": {
  "kernelspec": {
   "display_name": "Python 3",
   "language": "python",
   "name": "python3"
  },
  "language_info": {
   "codemirror_mode": {
    "name": "ipython",
    "version": 3
   },
   "file_extension": ".py",
   "mimetype": "text/x-python",
   "name": "python",
   "nbconvert_exporter": "python",
   "pygments_lexer": "ipython3",
   "version": "3.8.8"
  }
 },
 "nbformat": 4,
 "nbformat_minor": 5
}
