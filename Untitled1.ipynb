{
 "cells": [
  {
   "cell_type": "code",
   "execution_count": 6,
   "id": "56498367-b8f3-44e9-8fc0-cb49d57f85cd",
   "metadata": {},
   "outputs": [],
   "source": [
    "x=10"
   ]
  },
  {
   "cell_type": "code",
   "execution_count": 16,
   "id": "55825fbd-d5d4-4051-b2c9-bc0956fec0cd",
   "metadata": {},
   "outputs": [
    {
     "name": "stdin",
     "output_type": "stream",
     "text": [
      "Enter a number 15\n"
     ]
    },
    {
     "name": "stdout",
     "output_type": "stream",
     "text": [
      "x is equal to 15\n"
     ]
    }
   ],
   "source": [
    "x=int(input(\"Enter a number\"))\n",
    "if x > 15 :\n",
    "    print(\"x is greater than 15\")\n",
    "if x < 15 :\n",
    "    print(\"x is less than 15\")\n",
    "if x == 15 :\n",
    "    print(\"x is equal to 15\")"
   ]
  },
  {
   "cell_type": "code",
   "execution_count": 34,
   "id": "1a45c3eb-9024-47d9-a75e-097d4421ac08",
   "metadata": {},
   "outputs": [
    {
     "name": "stdin",
     "output_type": "stream",
     "text": [
      "Enter Priciple Amount 60000\n",
      "Enter the time 5\n"
     ]
    },
    {
     "name": "stdout",
     "output_type": "stream",
     "text": [
      "750000.0\n"
     ]
    }
   ],
   "source": [
    "p=int(input(\"Enter Priciple Amount\"))\n",
    "n=int(input(\"Enter the time\"))\n",
    "if p > 50000 :\n",
    " if n > 6 :\n",
    "    s=p+(p*n*10)\n",
    "if p == 50000 :\n",
    " if n < 6 :\n",
    "    s=p+(p*n*8)\n",
    "print(s)"
   ]
  },
  {
   "cell_type": "code",
   "execution_count": 35,
   "id": "22328b17-ddb9-4497-ba07-555fb52ea3d3",
   "metadata": {},
   "outputs": [
    {
     "name": "stdin",
     "output_type": "stream",
     "text": [
      "Enter Priciple Amount 60000\n",
      "Enter the time 5\n"
     ]
    },
    {
     "name": "stdout",
     "output_type": "stream",
     "text": [
      "3060000\n"
     ]
    }
   ],
   "source": [
    "p=int(input(\"Enter Priciple Amount\"))\n",
    "n=int(input(\"Enter the time\"))\n",
    "if n>6:\n",
    "    r=10\n",
    "if n<5:\n",
    "    r=8\n",
    "if n==6:\n",
    "    r=8\n",
    "if p==50000:\n",
    "    r=10\n",
    "if p>50000:\n",
    "    r=10\n",
    "amt=p+(p*n*r)\n",
    "print(amt)"
   ]
  },
  {
   "cell_type": "code",
   "execution_count": 43,
   "id": "c6611f3c-29be-490f-befe-a35236e3a594",
   "metadata": {},
   "outputs": [
    {
     "name": "stdin",
     "output_type": "stream",
     "text": [
      "Enter first number 5\n",
      "Enter second number 5\n",
      "Enter a codes add, sub, mult, div: add\n"
     ]
    },
    {
     "name": "stdout",
     "output_type": "stream",
     "text": [
      "10\n"
     ]
    }
   ],
   "source": [
    "x=int(input(\"Enter first number\"))\n",
    "y=int(input(\"Enter second number\"))\n",
    "z=input(\"Enter a codes add, sub, mult, div:\")\n",
    "if z==\"add\":\n",
    "    print(x+y)\n",
    "if z==\"sub\":\n",
    "    print(x-y)\n",
    "if z==\"mult\":\n",
    "    print(x*y)\n",
    "if z==\"div\":\n",
    "    print(x/y)"
   ]
  },
  {
   "cell_type": "code",
   "execution_count": null,
   "id": "ad507473-d8f0-4925-bdd9-472fecb1ceb8",
   "metadata": {},
   "outputs": [],
   "source": []
  }
 ],
 "metadata": {
  "kernelspec": {
   "display_name": "Python 3",
   "language": "python",
   "name": "python3"
  },
  "language_info": {
   "codemirror_mode": {
    "name": "ipython",
    "version": 3
   },
   "file_extension": ".py",
   "mimetype": "text/x-python",
   "name": "python",
   "nbconvert_exporter": "python",
   "pygments_lexer": "ipython3",
   "version": "3.8.8"
  }
 },
 "nbformat": 4,
 "nbformat_minor": 5
}
