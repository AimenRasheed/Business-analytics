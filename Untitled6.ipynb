{
 "cells": [
  {
   "cell_type": "code",
   "execution_count": 1,
   "id": "1d3c739c-9cd6-4b54-a44c-16c76278f82c",
   "metadata": {},
   "outputs": [
    {
     "name": "stdin",
     "output_type": "stream",
     "text": [
      "Enter salary 500000\n"
     ]
    },
    {
     "name": "stdout",
     "output_type": "stream",
     "text": [
      "Inome Tax 125000.0\n"
     ]
    }
   ],
   "source": [
    "x=float(input(\"Enter salary\"))\n",
    "def Salary(a,b,c,d):\n",
    "    y=((a-b)*c)+d\n",
    "    print(\"Inome Tax\",y)\n",
    "       \n",
    "if x<=250000:\n",
    "    Salary(x,250000,0,0,0)\n",
    "elif ((x>250000) and (x<=500000)):\n",
    "    Salary(x,250000,0.5,0)\n",
    "elif ((x>500000) and (x<=750000)):\n",
    "    Salary(x,500000,0.10,12500)\n",
    "elif ((x>750000) and (x<=1000000)):\n",
    "    Salary(x,750000,0.15,37500)\n",
    "elif ((x>100000) and (x<=1250000)):\n",
    "    Salary(x,1000000,0.20,1000000)\n",
    "elif ((x>1250000) and (x<=1500000)):\n",
    "    Salary(x,1250000,0.25,100,125000)\n",
    "elif ((x>1500000) and (x<1500000)):\n",
    "    Salary(x,1500000,0.30,187500)\n",
    "    "
   ]
  },
  {
   "cell_type": "code",
   "execution_count": null,
   "id": "694a276e-9055-4877-97eb-873a83d44f5a",
   "metadata": {},
   "outputs": [],
   "source": []
  }
 ],
 "metadata": {
  "kernelspec": {
   "display_name": "Python 3",
   "language": "python",
   "name": "python3"
  },
  "language_info": {
   "codemirror_mode": {
    "name": "ipython",
    "version": 3
   },
   "file_extension": ".py",
   "mimetype": "text/x-python",
   "name": "python",
   "nbconvert_exporter": "python",
   "pygments_lexer": "ipython3",
   "version": "3.8.8"
  }
 },
 "nbformat": 4,
 "nbformat_minor": 5
}
