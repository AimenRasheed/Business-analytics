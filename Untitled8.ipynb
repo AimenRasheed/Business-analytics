{
 "cells": [
  {
   "cell_type": "code",
   "execution_count": 15,
   "id": "9d8461c4-7058-4165-8c9b-23cb3f189713",
   "metadata": {},
   "outputs": [
    {
     "name": "stdin",
     "output_type": "stream",
     "text": [
      "Enter salary 500000\n"
     ]
    },
    {
     "name": "stdout",
     "output_type": "stream",
     "text": [
      "Inome Tax 12500.0\n"
     ]
    }
   ],
   "source": [
    "x=float(input(\"Enter salary\"))\n",
    "\n",
    "if x<=250000:\n",
    "    y=x*0\n",
    "elif ((x>250000) and (x<=500000)):\n",
    "    y=(x-250000)*5/100\n",
    "elif ((x>500000) and (x<=750000)):\n",
    "    y=(x-500000)*10/100+12500\n",
    "elif ((x>750000) and (x<=1000000)):\n",
    "    y=(x-750000)*15/100+37500\n",
    "elif ((x>100000) and (x<=1250000)):\n",
    "    y=(x-1000000)*20/100+1000000\n",
    "elif ((x>1250000) and (x<=1500000)):\n",
    "    y=(x-1250000)*25/100+125000\n",
    "elif ((x>1500000) and (x<1500000)):\n",
    "    y=(x-1500000)*30/100+187500\n",
    "    \n",
    "print(\"Inome Tax\",y)"
   ]
  },
  {
   "cell_type": "code",
   "execution_count": null,
   "id": "ac6ed40d-edd7-4642-863d-68560bf1287f",
   "metadata": {},
   "outputs": [],
   "source": []
  }
 ],
 "metadata": {
  "kernelspec": {
   "display_name": "Python 3",
   "language": "python",
   "name": "python3"
  },
  "language_info": {
   "codemirror_mode": {
    "name": "ipython",
    "version": 3
   },
   "file_extension": ".py",
   "mimetype": "text/x-python",
   "name": "python",
   "nbconvert_exporter": "python",
   "pygments_lexer": "ipython3",
   "version": "3.8.8"
  }
 },
 "nbformat": 4,
 "nbformat_minor": 5
}
